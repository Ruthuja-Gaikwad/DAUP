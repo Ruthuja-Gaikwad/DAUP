{
  "nbformat": 4,
  "nbformat_minor": 0,
  "metadata": {
    "colab": {
      "provenance": [],
      "gpuType": "T4",
      "authorship_tag": "ABX9TyNsC72ve/s0VI8veRJiBR+Q",
      "include_colab_link": true
    },
    "kernelspec": {
      "name": "python3",
      "display_name": "Python 3"
    },
    "language_info": {
      "name": "python"
    },
    "accelerator": "GPU"
  },
  "cells": [
    {
      "cell_type": "markdown",
      "metadata": {
        "id": "view-in-github",
        "colab_type": "text"
      },
      "source": [
        "<a href=\"https://colab.research.google.com/github/Ruthuja-Gaikwad/DAUP/blob/main/Traffic_sign_detection.ipynb\" target=\"_parent\"><img src=\"https://colab.research.google.com/assets/colab-badge.svg\" alt=\"Open In Colab\"/></a>"
      ]
    },
    {
      "cell_type": "code",
      "execution_count": 2,
      "metadata": {
        "colab": {
          "base_uri": "https://localhost:8080/"
        },
        "id": "gXs84vxkR03t",
        "outputId": "ad8ee492-7742-416d-8e1b-dd6f8cbd62a8"
      },
      "outputs": [
        {
          "output_type": "stream",
          "name": "stdout",
          "text": [
            "Path to dataset files: /root/.cache/kagglehub/datasets/valentynsichkar/traffic-signs-preprocessed/versions/2\n"
          ]
        }
      ],
      "source": [
        "import kagglehub\n",
        "\n",
        "# Download latest version\n",
        "path = kagglehub.dataset_download(\"valentynsichkar/traffic-signs-preprocessed\")\n",
        "\n",
        "print(\"Path to dataset files:\", path)"
      ]
    },
    {
      "cell_type": "code",
      "source": [
        "ls -l /root/.cache/kagglehub/datasets/valentynsichkar/traffic-signs-preprocessed/versions/2"
      ],
      "metadata": {
        "colab": {
          "base_uri": "https://localhost:8080/"
        },
        "id": "BoypAo_2R4e7",
        "outputId": "ac682fdb-012c-49e8-92b2-51df10176c04"
      },
      "execution_count": 3,
      "outputs": [
        {
          "output_type": "stream",
          "name": "stdout",
          "text": [
            "total 6869484\n",
            "-rw-r--r-- 1 root root  477332392 Mar 24 13:47 data0.pickle\n",
            "-rw-r--r-- 1 root root 1279023059 Mar 24 13:47 data1.pickle\n",
            "-rw-r--r-- 1 root root 1279023059 Mar 24 13:48 data2.pickle\n",
            "-rw-r--r-- 1 root root 1279023059 Mar 24 13:48 data3.pickle\n",
            "-rw-r--r-- 1 root root  852920232 Mar 24 13:48 data4.pickle\n",
            "-rw-r--r-- 1 root root  426817448 Mar 24 13:48 data5.pickle\n",
            "-rw-r--r-- 1 root root  426817448 Mar 24 13:48 data6.pickle\n",
            "-rw-r--r-- 1 root root  426817448 Mar 24 13:48 data7.pickle\n",
            "-rw-r--r-- 1 root root  426817448 Mar 24 13:48 data8.pickle\n",
            "-rw-r--r-- 1 root root      25282 Mar 24 13:48 datasets_preparing.py\n",
            "-rw-r--r-- 1 root root        999 Mar 24 13:48 label_names.csv\n",
            "-rw-r--r-- 1 root root       1129 Mar 24 13:48 labels.pickle\n",
            "-rw-r--r-- 1 root root       4284 Mar 24 13:48 mean_image_gray.pickle\n",
            "-rw-r--r-- 1 root root      12475 Mar 24 13:48 mean_image_rgb.pickle\n",
            "-rw-r--r-- 1 root root       4277 Mar 24 13:48 std_gray.pickle\n",
            "-rw-r--r-- 1 root root      12468 Mar 24 13:48 std_rgb.pickle\n",
            "-rw-r--r-- 1 root root   38888118 Mar 24 13:48 test.pickle\n",
            "-rw-r--r-- 1 root root  107146452 Mar 24 13:48 train.pickle\n",
            "-rw-r--r-- 1 root root   13578712 Mar 24 13:48 valid.pickle\n"
          ]
        }
      ]
    },
    {
      "cell_type": "code",
      "source": [
        "import numpy as np\n",
        "import pandas as pd\n",
        "import pickle\n",
        "import matplotlib.pyplot as plt\n",
        "import cv2\n",
        "from sklearn.model_selection import train_test_split\n",
        "from tensorflow.keras.utils import to_categorical\n",
        "from sklearn.ensemble import RandomForestClassifier\n",
        "from sklearn.svm import SVC\n",
        "from tensorflow.keras.models import Sequential\n",
        "from tensorflow.keras.layers import Conv2D, MaxPooling2D, Flatten, Dense\n",
        "from sklearn.metrics import accuracy_score, confusion_matrix, classification_report"
      ],
      "metadata": {
        "id": "k-hpGyhxp5LZ"
      },
      "execution_count": 4,
      "outputs": []
    },
    {
      "cell_type": "code",
      "source": [
        "dataset_path = \"/root/.cache/kagglehub/datasets/valentynsichkar/traffic-signs-preprocessed/versions/2/\"\n",
        "TRAIN_FILE = dataset_path + \"train.pickle\"\n",
        "VALID_FILE = dataset_path + \"valid.pickle\"\n",
        "TEST_FILE = dataset_path + \"test.pickle\"\n",
        "LABELS_FILE = dataset_path + \"labels.pickle\""
      ],
      "metadata": {
        "id": "9lHfIv0mTVVu"
      },
      "execution_count": 5,
      "outputs": []
    },
    {
      "source": [
        "# Load dataset from pickle files\n",
        "def load_pickle_data(file_path):\n",
        "    with open(file_path, 'rb') as f:\n",
        "        data = pickle.load(f)\n",
        "    # Check if data is a dictionary before accessing 'features' and 'labels'\n",
        "    if isinstance(data, dict):\n",
        "        # Assuming data is a dictionary with keys 'features' and 'labels'\n",
        "        # Adjust keys if your data structure is different.\n",
        "        return data['features'], data['labels'] # Return features and labels separately\n",
        "    # If data is not a dictionary, assume it is the label map\n",
        "    else:\n",
        "        return data  # Return the label map as is\n",
        "\n",
        "# Load data\n",
        "X_train, y_train = load_pickle_data(TRAIN_FILE)\n",
        "X_valid, y_valid = load_pickle_data(VALID_FILE)\n",
        "X_test, y_test = load_pickle_data(TEST_FILE)\n",
        "label_map = load_pickle_data(LABELS_FILE) # label_map is now the loaded data from LABELS_FILE"
      ],
      "cell_type": "code",
      "metadata": {
        "id": "UkUWswv7r5Gh"
      },
      "execution_count": 6,
      "outputs": []
    },
    {
      "cell_type": "code",
      "source": [
        "X_train, _, y_train, _ = train_test_split(X_train, y_train, train_size=1000, random_state=42, stratify=y_train)\n",
        "X_test, _, y_test, _ = train_test_split(X_test, y_test, train_size=1000, random_state=42, stratify=y_test)"
      ],
      "metadata": {
        "id": "q_ua-j9otws-"
      },
      "execution_count": 7,
      "outputs": []
    },
    {
      "cell_type": "code",
      "source": [
        "# Normalize pixel values\n",
        "X_train, X_valid, X_test = X_train / 255.0, X_valid / 255.0, X_test / 255.0"
      ],
      "metadata": {
        "id": "D-jE7GVSsD47"
      },
      "execution_count": 8,
      "outputs": []
    },
    {
      "cell_type": "code",
      "source": [
        "print(\"Original X_train shape:\", X_train.shape)"
      ],
      "metadata": {
        "colab": {
          "base_uri": "https://localhost:8080/"
        },
        "id": "LD3lD-3Gs531",
        "outputId": "e53bb58d-bfff-437b-ffec-db02cad80eda"
      },
      "execution_count": 9,
      "outputs": [
        {
          "output_type": "stream",
          "name": "stdout",
          "text": [
            "Original X_train shape: (1000, 32, 32, 3)\n"
          ]
        }
      ]
    },
    {
      "cell_type": "code",
      "source": [
        "def resize_images(images, width, height):\n",
        "    resized_images = []\n",
        "    for img in images:\n",
        "        img = cv2.resize(img.astype(np.uint8), (width, height))  # Resize\n",
        "        img = np.expand_dims(img, axis=-1)  # Add channel dimension\n",
        "        resized_images.append(img)\n",
        "    return np.array(resized_images)\n"
      ],
      "metadata": {
        "id": "eAifMbPDtKmo"
      },
      "execution_count": 10,
      "outputs": []
    },
    {
      "cell_type": "code",
      "source": [
        "# Reduce image size for performance\n",
        "IMG_WIDTH, IMG_HEIGHT = 128, 100  # Reduced from 256x200\n",
        "\n",
        "# Resize images first\n",
        "X_train = resize_images(X_train, IMG_WIDTH, IMG_HEIGHT)\n",
        "X_valid = resize_images(X_valid, IMG_WIDTH, IMG_HEIGHT)\n",
        "X_test = resize_images(X_test, IMG_WIDTH, IMG_HEIGHT)\n",
        "\n",
        "# Normalize pixel values AFTER resizing\n",
        "X_train, X_valid, X_test = X_train / 255.0, X_valid / 255.0, X_test / 255.0\n"
      ],
      "metadata": {
        "id": "g4BJjAXvsKD7"
      },
      "execution_count": 11,
      "outputs": []
    },
    {
      "cell_type": "code",
      "source": [
        "# Convert to grayscale\n",
        "X_train = np.mean(X_train, axis=-1, keepdims=True)\n",
        "X_valid = np.mean(X_valid, axis=-1, keepdims=True)\n",
        "X_test = np.mean(X_test, axis=-1, keepdims=True)"
      ],
      "metadata": {
        "id": "_81t9MlRsKt2"
      },
      "execution_count": 12,
      "outputs": []
    },
    {
      "cell_type": "code",
      "source": [
        "\n",
        "# Convert labels to categorical\n",
        "num_classes = len(np.unique(y_train))\n",
        "y_train = to_categorical(y_train, num_classes)\n",
        "y_valid = to_categorical(y_valid, num_classes)\n",
        "y_test = to_categorical(y_test, num_classes)"
      ],
      "metadata": {
        "id": "gXXm9wGqwMj7"
      },
      "execution_count": 13,
      "outputs": []
    },
    {
      "cell_type": "code",
      "source": [
        "print(f\"Training samples: {X_train.shape[0]}, Testing samples: {X_test.shape[0]}\")"
      ],
      "metadata": {
        "colab": {
          "base_uri": "https://localhost:8080/"
        },
        "id": "6xWP9o3SwMS3",
        "outputId": "01c60845-7006-4fa3-bbf2-ef8ccb9ec53d"
      },
      "execution_count": 14,
      "outputs": [
        {
          "output_type": "stream",
          "name": "stdout",
          "text": [
            "Training samples: 1000, Testing samples: 1000\n"
          ]
        }
      ]
    },
    {
      "cell_type": "code",
      "source": [
        "\n",
        "# Flatten images for ML models\n",
        "X_train_flat = X_train.reshape(X_train.shape[0], -1)\n",
        "X_test_flat = X_test.reshape(X_test.shape[0], -1)\n"
      ],
      "metadata": {
        "id": "aPj749Y2wTOX"
      },
      "execution_count": 15,
      "outputs": []
    },
    {
      "cell_type": "code",
      "source": [
        "unique, counts = np.unique(np.argmax(y_train, axis=1), return_counts=True)\n",
        "print(dict(zip(unique, counts)))\n",
        "from imblearn.over_sampling import SMOTE\n",
        "\n",
        "smote = SMOTE(random_state=42, k_neighbors=2)  # Reduce k_neighbors\n",
        "X_train_flat, y_train_flat = smote.fit_resample(X_train_flat, np.argmax(y_train, axis=1))\n",
        "from collections import Counter\n",
        "print(\"Class distribution after resampling:\", Counter(y_train_flat))\n"
      ],
      "metadata": {
        "colab": {
          "base_uri": "https://localhost:8080/"
        },
        "id": "GHdRGG7UApm3",
        "outputId": "fe5df405-3105-45b6-c9f4-143610de60b2"
      },
      "execution_count": 16,
      "outputs": [
        {
          "output_type": "stream",
          "name": "stdout",
          "text": [
            "{np.int64(0): np.int64(5), np.int64(1): np.int64(57), np.int64(2): np.int64(58), np.int64(3): np.int64(36), np.int64(4): np.int64(51), np.int64(5): np.int64(47), np.int64(6): np.int64(10), np.int64(7): np.int64(37), np.int64(8): np.int64(36), np.int64(9): np.int64(38), np.int64(10): np.int64(52), np.int64(11): np.int64(34), np.int64(12): np.int64(54), np.int64(13): np.int64(55), np.int64(14): np.int64(20), np.int64(15): np.int64(16), np.int64(16): np.int64(10), np.int64(17): np.int64(28), np.int64(18): np.int64(31), np.int64(19): np.int64(5), np.int64(20): np.int64(9), np.int64(21): np.int64(8), np.int64(22): np.int64(10), np.int64(23): np.int64(13), np.int64(24): np.int64(7), np.int64(25): np.int64(39), np.int64(26): np.int64(16), np.int64(27): np.int64(6), np.int64(28): np.int64(14), np.int64(29): np.int64(7), np.int64(30): np.int64(11), np.int64(31): np.int64(20), np.int64(32): np.int64(6), np.int64(33): np.int64(17), np.int64(34): np.int64(10), np.int64(35): np.int64(31), np.int64(36): np.int64(9), np.int64(37): np.int64(5), np.int64(38): np.int64(53), np.int64(39): np.int64(8), np.int64(40): np.int64(9), np.int64(41): np.int64(6), np.int64(42): np.int64(6)}\n",
            "Class distribution after resampling: Counter({np.int64(18): 58, np.int64(12): 58, np.int64(24): 58, np.int64(10): 58, np.int64(2): 58, np.int64(4): 58, np.int64(0): 58, np.int64(38): 58, np.int64(7): 58, np.int64(22): 58, np.int64(41): 58, np.int64(3): 58, np.int64(15): 58, np.int64(35): 58, np.int64(11): 58, np.int64(1): 58, np.int64(31): 58, np.int64(33): 58, np.int64(25): 58, np.int64(5): 58, np.int64(20): 58, np.int64(30): 58, np.int64(8): 58, np.int64(34): 58, np.int64(29): 58, np.int64(21): 58, np.int64(36): 58, np.int64(9): 58, np.int64(39): 58, np.int64(13): 58, np.int64(28): 58, np.int64(6): 58, np.int64(14): 58, np.int64(37): 58, np.int64(42): 58, np.int64(17): 58, np.int64(26): 58, np.int64(19): 58, np.int64(16): 58, np.int64(23): 58, np.int64(32): 58, np.int64(40): 58, np.int64(27): 58})\n"
          ]
        }
      ]
    },
    {
      "cell_type": "code",
      "source": [
        "import numpy as np\n",
        "import pandas as pd\n",
        "import pickle\n",
        "import matplotlib.pyplot as plt\n",
        "import cv2\n",
        "from sklearn.model_selection import train_test_split\n",
        "from tensorflow.keras.utils import to_categorical\n",
        "from sklearn.ensemble import RandomForestClassifier\n",
        "from sklearn.svm import SVC\n",
        "from tensorflow.keras.models import Sequential\n",
        "from tensorflow.keras.layers import Conv2D, MaxPooling2D, Flatten, Dense, BatchNormalization, Dropout\n",
        "from sklearn.metrics import accuracy_score, confusion_matrix, classification_report\n",
        "from sklearn.model_selection import GridSearchCV\n",
        "from scipy.stats import norm, f_oneway\n",
        "from imblearn.over_sampling import SMOTE\n"
      ],
      "metadata": {
        "id": "XaPnP6pQBhjU"
      },
      "execution_count": 21,
      "outputs": []
    },
    {
      "cell_type": "code",
      "source": [
        "# Hyperparameter tuning for Random Forest\n",
        "rf_params = {'n_estimators': [100, 200, 300], 'max_depth': [None, 10, 20]}\n",
        "rf_clf = GridSearchCV(RandomForestClassifier(random_state=42), rf_params, cv=3, n_jobs=-1)\n",
        "rf_clf.fit(X_train_flat, y_train_flat)\n",
        "rf_preds = rf_clf.best_estimator_.predict(X_test_flat)"
      ],
      "metadata": {
        "id": "e5rH1-ThwbL1"
      },
      "execution_count": 22,
      "outputs": []
    },
    {
      "cell_type": "code",
      "source": [
        "# Train SVM Classifier\n",
        "svm_clf = SVC(kernel='linear', probability=True)\n",
        "svm_clf.fit(X_train_flat, y_train_flat)\n",
        "svm_preds = svm_clf.predict(X_test_flat)\n"
      ],
      "metadata": {
        "id": "1C78Gi5Q3yPc"
      },
      "execution_count": 23,
      "outputs": []
    },
    {
      "cell_type": "code",
      "source": [
        "print(\"Shape after SMOTE:\", X_train_flat.shape)\n"
      ],
      "metadata": {
        "colab": {
          "base_uri": "https://localhost:8080/"
        },
        "id": "rFfENPCMLRbV",
        "outputId": "495563ae-0d18-473a-c53b-474e7f7d2942"
      },
      "execution_count": 32,
      "outputs": [
        {
          "output_type": "stream",
          "name": "stdout",
          "text": [
            "Shape after SMOTE: (2494, 38400)\n"
          ]
        }
      ]
    },
    {
      "cell_type": "code",
      "source": [
        "print(\"Original X_train shape before flattening:\", X_train.shape)  # Should be (num_samples, 256, 200, 1)\n",
        "print(\"Flattened X_train shape:\", X_train_flat.shape)  # Should be (num_samples, 51200)\n"
      ],
      "metadata": {
        "colab": {
          "base_uri": "https://localhost:8080/"
        },
        "id": "JnNADcRBLbmh",
        "outputId": "e44f3d52-b038-499c-d9c9-5bf459add021"
      },
      "execution_count": 33,
      "outputs": [
        {
          "output_type": "stream",
          "name": "stdout",
          "text": [
            "Original X_train shape before flattening: (3000, 128, 100, 1)\n",
            "Flattened X_train shape: (2494, 38400)\n"
          ]
        }
      ]
    },
    {
      "cell_type": "code",
      "source": [
        "# Cell 34: Correct X_train to have the same shape as y_train before flattening\n",
        "X_train_resized = resize_images(X_train[:y_train.shape[0]], IMG_WIDTH, IMG_HEIGHT)\n",
        "X_train_flat = X_train_resized.reshape(X_train_resized.shape[0], -1)\n",
        "\n",
        "# Cell 35: Should work correctly if X_train_flat and y_train now have the same number of samples\n",
        "smote = SMOTE(random_state=42)\n",
        "X_train_flat, y_train_flat = smote.fit_resample(X_train_flat, np.argmax(y_train, axis=1))"
      ],
      "metadata": {
        "id": "QT9xdTFLLmv8"
      },
      "execution_count": 37,
      "outputs": []
    },
    {
      "cell_type": "code",
      "source": [
        "# Get new number of samples after SMOTE\n",
        "num_samples = X_train_flat.shape[0]\n",
        "\n",
        "# Reshape to CNN input format\n",
        "X_train = X_train_flat.reshape(num_samples, IMG_HEIGHT, IMG_WIDTH, 1)\n"
      ],
      "metadata": {
        "id": "jRF9aAkkLt0d"
      },
      "execution_count": 38,
      "outputs": []
    },
    {
      "cell_type": "code",
      "source": [
        "print(\"Final X_train shape:\", X_train.shape)  # Should be (2494, 256, 200, 1)\n",
        "print(\"Final y_train shape:\", y_train.shape)  # Should be (2494, num_classes)\n"
      ],
      "metadata": {
        "colab": {
          "base_uri": "https://localhost:8080/"
        },
        "id": "zD2FZ6ThL2nM",
        "outputId": "7f76df7e-4ca2-41ec-a0b1-1ac584d1ee63"
      },
      "execution_count": 39,
      "outputs": [
        {
          "output_type": "stream",
          "name": "stdout",
          "text": [
            "Final X_train shape: (2494, 100, 128, 1)\n",
            "Final y_train shape: (2494, 43)\n"
          ]
        }
      ]
    },
    {
      "cell_type": "code",
      "source": [
        "print(f\"After SMOTE - X_train shape: {X_train_flat.shape}, y_train shape: {y_train_flat.shape}\")\n",
        "print(f\"Validation Data - X_valid shape: {X_valid.shape}, y_valid shape: {y_valid.shape}\")\n"
      ],
      "metadata": {
        "colab": {
          "base_uri": "https://localhost:8080/"
        },
        "id": "56kiFiDkMsHC",
        "outputId": "9f17eccc-7ce4-4bd0-c63f-e694ed8877c5"
      },
      "execution_count": 43,
      "outputs": [
        {
          "output_type": "stream",
          "name": "stdout",
          "text": [
            "After SMOTE - X_train shape: (2494, 12800), y_train shape: (2494,)\n",
            "Validation Data - X_valid shape: (13230, 128, 100, 1), y_valid shape: (4410, 43)\n"
          ]
        }
      ]
    },
    {
      "cell_type": "code",
      "source": [
        "# Flatten images before applying SMOTE\n",
        "X_train_flat = X_train.reshape(X_train.shape[0], -1)\n",
        "\n",
        "# Apply SMOTE for class balancing, adjusting k_neighbors\n",
        "# Ensure k_neighbors <= n_samples - 1 for each class\n",
        "# Calculate minimum number of samples in any class\n",
        "min_samples = min(np.bincount(np.argmax(y_train[:X_train_flat.shape[0]], axis=1)))\n",
        "k_neighbors = min(5, min_samples - 1) # Set k_neighbors to minimum between 5 and min_samples - 1\n",
        "smote = SMOTE(random_state=42, k_neighbors=k_neighbors)\n",
        "# Use y_train.shape[0] to get consistent number of samples\n",
        "X_train_flat, y_train_flat = smote.fit_resample(X_train_flat, np.argmax(y_train[:X_train_flat.shape[0]], axis=1))\n",
        "\n",
        "# Convert labels back to categorical after SMOTE\n",
        "y_train = to_categorical(y_train_flat, num_classes)\n",
        "\n",
        "# Reshape X_train back to CNN-compatible format\n",
        "X_train = X_train_flat.reshape(-1, 100, 128, 1)\n",
        "\n",
        "# Now, perform train-validation split correctly\n",
        "X_train, X_valid, y_train, y_valid = train_test_split(\n",
        "    X_train, y_train, test_size=0.2, random_state=42, stratify=y_train_flat\n",
        ")\n",
        "\n",
        "# Print final shapes to confirm consistency\n",
        "print(f\"Final X_train shape: {X_train.shape}, y_train shape: {y_train.shape}\")\n",
        "print(f\"Final X_valid shape: {X_valid.shape}, y_valid shape: {y_valid.shape}\")"
      ],
      "metadata": {
        "colab": {
          "base_uri": "https://localhost:8080/"
        },
        "id": "-6gCMCRHM1aq",
        "outputId": "b7b6badc-0216-42ce-9d70-a3e2d77a1355"
      },
      "execution_count": 50,
      "outputs": [
        {
          "output_type": "stream",
          "name": "stdout",
          "text": [
            "Final X_train shape: (1995, 100, 128, 1), y_train shape: (1995, 43)\n",
            "Final X_valid shape: (499, 100, 128, 1), y_valid shape: (499, 43)\n"
          ]
        }
      ]
    },
    {
      "cell_type": "code",
      "source": [
        "# Build CNN Model\n",
        "cnn_model = Sequential([\n",
        "    Conv2D(32, (3, 3), activation='relu', input_shape=(100, 128, 1)),\n",
        "    BatchNormalization(),\n",
        "    MaxPooling2D(pool_size=(2, 2)),\n",
        "    Dropout(0.25),\n",
        "    Conv2D(64, (3, 3), activation='relu'),\n",
        "    BatchNormalization(),\n",
        "    MaxPooling2D(pool_size=(2, 2)),\n",
        "    Dropout(0.25),\n",
        "    Flatten(),\n",
        "    Dense(128, activation='relu'),\n",
        "    Dropout(0.5),\n",
        "    Dense(num_classes, activation='softmax')\n",
        "])\n",
        "\n",
        "cnn_model.compile(optimizer='adam', loss='categorical_crossentropy', metrics=['accuracy'])\n",
        "cnn_model.fit(X_train, y_train, epochs=10, batch_size=32, validation_data=(X_valid, y_valid))\n",
        "cnn_preds = np.argmax(cnn_model.predict(X_test), axis=1)\n"
      ],
      "metadata": {
        "colab": {
          "base_uri": "https://localhost:8080/"
        },
        "id": "qQqXvibv4KhH",
        "outputId": "07721983-7d9f-4c63-9e52-47355ce47213"
      },
      "execution_count": 51,
      "outputs": [
        {
          "output_type": "stream",
          "name": "stdout",
          "text": [
            "Epoch 1/10\n"
          ]
        },
        {
          "output_type": "stream",
          "name": "stderr",
          "text": [
            "/usr/local/lib/python3.11/dist-packages/keras/src/layers/convolutional/base_conv.py:107: UserWarning: Do not pass an `input_shape`/`input_dim` argument to a layer. When using Sequential models, prefer using an `Input(shape)` object as the first layer in the model instead.\n",
            "  super().__init__(activity_regularizer=activity_regularizer, **kwargs)\n"
          ]
        },
        {
          "output_type": "stream",
          "name": "stdout",
          "text": [
            "\u001b[1m63/63\u001b[0m \u001b[32m━━━━━━━━━━━━━━━━━━━━\u001b[0m\u001b[37m\u001b[0m \u001b[1m14s\u001b[0m 97ms/step - accuracy: 0.0177 - loss: 3.7614 - val_accuracy: 0.0220 - val_loss: 3.7612\n",
            "Epoch 2/10\n",
            "\u001b[1m63/63\u001b[0m \u001b[32m━━━━━━━━━━━━━━━━━━━━\u001b[0m\u001b[37m\u001b[0m \u001b[1m1s\u001b[0m 14ms/step - accuracy: 0.0231 - loss: 3.7614 - val_accuracy: 0.0220 - val_loss: 3.7612\n",
            "Epoch 3/10\n",
            "\u001b[1m63/63\u001b[0m \u001b[32m━━━━━━━━━━━━━━━━━━━━\u001b[0m\u001b[37m\u001b[0m \u001b[1m1s\u001b[0m 14ms/step - accuracy: 0.0229 - loss: 3.7613 - val_accuracy: 0.0220 - val_loss: 3.7613\n",
            "Epoch 4/10\n",
            "\u001b[1m63/63\u001b[0m \u001b[32m━━━━━━━━━━━━━━━━━━━━\u001b[0m\u001b[37m\u001b[0m \u001b[1m1s\u001b[0m 13ms/step - accuracy: 0.0283 - loss: 3.7612 - val_accuracy: 0.0220 - val_loss: 3.7613\n",
            "Epoch 5/10\n",
            "\u001b[1m63/63\u001b[0m \u001b[32m━━━━━━━━━━━━━━━━━━━━\u001b[0m\u001b[37m\u001b[0m \u001b[1m1s\u001b[0m 15ms/step - accuracy: 0.0194 - loss: 3.7612 - val_accuracy: 0.0220 - val_loss: 3.7613\n",
            "Epoch 6/10\n",
            "\u001b[1m63/63\u001b[0m \u001b[32m━━━━━━━━━━━━━━━━━━━━\u001b[0m\u001b[37m\u001b[0m \u001b[1m1s\u001b[0m 15ms/step - accuracy: 0.0224 - loss: 3.7613 - val_accuracy: 0.0220 - val_loss: 3.7613\n",
            "Epoch 7/10\n",
            "\u001b[1m63/63\u001b[0m \u001b[32m━━━━━━━━━━━━━━━━━━━━\u001b[0m\u001b[37m\u001b[0m \u001b[1m1s\u001b[0m 16ms/step - accuracy: 0.0212 - loss: 3.7613 - val_accuracy: 0.0220 - val_loss: 3.7614\n",
            "Epoch 8/10\n",
            "\u001b[1m63/63\u001b[0m \u001b[32m━━━━━━━━━━━━━━━━━━━━\u001b[0m\u001b[37m\u001b[0m \u001b[1m1s\u001b[0m 14ms/step - accuracy: 0.0128 - loss: 3.7614 - val_accuracy: 0.0220 - val_loss: 3.7614\n",
            "Epoch 9/10\n",
            "\u001b[1m63/63\u001b[0m \u001b[32m━━━━━━━━━━━━━━━━━━━━\u001b[0m\u001b[37m\u001b[0m \u001b[1m1s\u001b[0m 14ms/step - accuracy: 0.0229 - loss: 3.7614 - val_accuracy: 0.0220 - val_loss: 3.7613\n",
            "Epoch 10/10\n",
            "\u001b[1m63/63\u001b[0m \u001b[32m━━━━━━━━━━━━━━━━━━━━\u001b[0m\u001b[37m\u001b[0m \u001b[1m1s\u001b[0m 14ms/step - accuracy: 0.0269 - loss: 3.7614 - val_accuracy: 0.0220 - val_loss: 3.7614\n",
            "\u001b[1m94/94\u001b[0m \u001b[32m━━━━━━━━━━━━━━━━━━━━\u001b[0m\u001b[37m\u001b[0m \u001b[1m1s\u001b[0m 9ms/step\n"
          ]
        }
      ]
    },
    {
      "cell_type": "code",
      "source": [
        "# Save trained models\n",
        "with open('rf_model.pkl', 'wb') as f:\n",
        "    pickle.dump(rf_clf.best_estimator_, f)\n",
        "with open('svm_model.pkl', 'wb') as f:\n",
        "    pickle.dump(svm_clf, f)\n",
        "cnn_model.save('cnn_model.keras')\n"
      ],
      "metadata": {
        "id": "rjK4S4G24Yxb"
      },
      "execution_count": 54,
      "outputs": []
    },
    {
      "cell_type": "code",
      "source": [
        "# Evaluate models\n",
        "rf_acc = accuracy_score(np.argmax(y_test, axis=1), rf_preds)\n",
        "svm_acc = accuracy_score(np.argmax(y_test, axis=1), svm_preds)\n",
        "# The issue is likely with the shape of X_test passed to the CNN for prediction.\n",
        "# Ensure X_test has the same number of samples as y_test (1000).\n",
        "# You might have modified X_test during reshaping/SMOTE.\n",
        "# Use the original X_test with 1000 samples if available.\n",
        "# Assuming X_test_original is your original X_test with 1000 samples:\n",
        "\n",
        "# Predict using the original X_test with 1000 samples\n",
        "cnn_preds = np.argmax(cnn_model.predict(X_test[:1000]), axis=1)\n",
        "cnn_acc = accuracy_score(np.argmax(y_test, axis=1), cnn_preds)"
      ],
      "metadata": {
        "colab": {
          "base_uri": "https://localhost:8080/"
        },
        "id": "1QwnB1fe5LgQ",
        "outputId": "feb18695-911c-40d4-bfc9-0ba1c01df828"
      },
      "execution_count": 55,
      "outputs": [
        {
          "output_type": "stream",
          "name": "stdout",
          "text": [
            "\u001b[1m32/32\u001b[0m \u001b[32m━━━━━━━━━━━━━━━━━━━━\u001b[0m\u001b[37m\u001b[0m \u001b[1m1s\u001b[0m 24ms/step\n"
          ]
        }
      ]
    },
    {
      "source": [
        "print(\"Random Forest Accuracy:\", rf_acc)\n",
        "print(\"SVM Accuracy:\", svm_acc)\n",
        "print(\"CNN Accuracy:\", cnn_acc)"
      ],
      "cell_type": "code",
      "metadata": {
        "colab": {
          "base_uri": "https://localhost:8080/"
        },
        "id": "gg7IXoyN4urd",
        "outputId": "e2c46595-8ab6-4f9e-ce9a-7b9d08f9a3b5"
      },
      "execution_count": 56,
      "outputs": [
        {
          "output_type": "stream",
          "name": "stdout",
          "text": [
            "Random Forest Accuracy: 0.089\n",
            "SVM Accuracy: 0.013\n",
            "CNN Accuracy: 0.015\n"
          ]
        }
      ]
    },
    {
      "cell_type": "code",
      "source": [
        "# Confusion Matrices\n",
        "rf_cm = confusion_matrix(np.argmax(y_test, axis=1), rf_preds)\n",
        "svm_cm = confusion_matrix(np.argmax(y_test, axis=1), svm_preds)\n",
        "cnn_cm = confusion_matrix(np.argmax(y_test, axis=1), cnn_preds)"
      ],
      "metadata": {
        "id": "5WVfiRqXwkDX"
      },
      "execution_count": 57,
      "outputs": []
    },
    {
      "cell_type": "code",
      "source": [
        "# Classification Reports\n",
        "print(\"\\nRandom Forest Classification Report:\\n\", classification_report(np.argmax(y_test, axis=1), rf_preds))\n",
        "print(\"\\nSVM Classification Report:\\n\", classification_report(np.argmax(y_test, axis=1), svm_preds))\n",
        "print(\"\\nCNN Classification Report:\\n\", classification_report(np.argmax(y_test, axis=1), cnn_preds))\n"
      ],
      "metadata": {
        "colab": {
          "base_uri": "https://localhost:8080/"
        },
        "id": "GS82aeIL7MJx",
        "outputId": "310c3b2d-9daf-4946-b4c6-4ade821099ed"
      },
      "execution_count": 58,
      "outputs": [
        {
          "output_type": "stream",
          "name": "stdout",
          "text": [
            "\n",
            "Random Forest Classification Report:\n",
            "               precision    recall  f1-score   support\n",
            "\n",
            "           0       0.00      0.00      0.00         5\n",
            "           1       0.69      0.19      0.30        57\n",
            "           2       0.26      0.08      0.13        59\n",
            "           3       0.05      0.03      0.04        36\n",
            "           4       0.18      0.04      0.06        52\n",
            "           5       0.00      0.00      0.00        50\n",
            "           6       0.00      0.00      0.00        12\n",
            "           7       0.00      0.00      0.00        36\n",
            "           8       0.00      0.00      0.00        36\n",
            "           9       0.14      0.11      0.12        38\n",
            "          10       0.00      0.00      0.00        52\n",
            "          11       0.00      0.00      0.00        33\n",
            "          12       0.25      0.02      0.03        55\n",
            "          13       0.67      0.32      0.43        57\n",
            "          14       0.23      0.24      0.23        21\n",
            "          15       0.00      0.00      0.00        17\n",
            "          16       0.25      0.08      0.12        12\n",
            "          17       0.80      0.43      0.56        28\n",
            "          18       0.07      0.03      0.04        31\n",
            "          19       0.00      0.00      0.00         5\n",
            "          20       0.00      0.43      0.01         7\n",
            "          21       0.36      0.57      0.44         7\n",
            "          22       0.00      0.00      0.00         9\n",
            "          23       0.00      0.00      0.00        12\n",
            "          24       0.00      0.00      0.00         7\n",
            "          25       0.00      0.00      0.00        38\n",
            "          26       0.00      0.00      0.00        14\n",
            "          27       0.00      0.00      0.00         5\n",
            "          28       0.00      0.00      0.00        12\n",
            "          29       0.00      0.00      0.00         7\n",
            "          30       0.00      0.00      0.00        12\n",
            "          31       0.00      0.00      0.00        21\n",
            "          32       0.00      0.00      0.00         5\n",
            "          33       0.00      0.00      0.00        17\n",
            "          34       0.00      0.00      0.00         9\n",
            "          35       0.23      0.10      0.14        31\n",
            "          36       0.07      0.11      0.09         9\n",
            "          37       0.00      0.00      0.00         5\n",
            "          38       0.52      0.24      0.33        55\n",
            "          39       0.75      0.43      0.55         7\n",
            "          40       0.08      0.14      0.11         7\n",
            "          41       0.00      0.00      0.00         5\n",
            "          42       0.00      0.00      0.00         7\n",
            "\n",
            "    accuracy                           0.09      1000\n",
            "   macro avg       0.13      0.08      0.09      1000\n",
            "weighted avg       0.20      0.09      0.11      1000\n",
            "\n",
            "\n",
            "SVM Classification Report:\n",
            "               precision    recall  f1-score   support\n",
            "\n",
            "           0       0.00      0.00      0.00         5\n",
            "           1       0.00      0.00      0.00        57\n",
            "           2       0.00      0.00      0.00        59\n",
            "           3       0.08      0.03      0.04        36\n",
            "           4       0.00      0.00      0.00        52\n",
            "           5       0.00      0.00      0.00        50\n",
            "           6       0.00      0.00      0.00        12\n",
            "           7       0.00      0.00      0.00        36\n",
            "           8       0.00      0.00      0.00        36\n",
            "           9       0.00      0.00      0.00        38\n",
            "          10       0.00      0.00      0.00        52\n",
            "          11       0.00      0.00      0.00        33\n",
            "          12       0.00      0.00      0.00        55\n",
            "          13       0.00      0.00      0.00        57\n",
            "          14       0.14      0.10      0.11        21\n",
            "          15       0.00      0.00      0.00        17\n",
            "          16       0.00      0.00      0.00        12\n",
            "          17       0.20      0.04      0.06        28\n",
            "          18       0.00      0.00      0.00        31\n",
            "          19       0.00      0.00      0.00         5\n",
            "          20       0.00      0.57      0.01         7\n",
            "          21       0.25      0.14      0.18         7\n",
            "          22       0.00      0.00      0.00         9\n",
            "          23       0.00      0.00      0.00        12\n",
            "          24       0.00      0.00      0.00         7\n",
            "          25       0.00      0.00      0.00        38\n",
            "          26       0.00      0.00      0.00        14\n",
            "          27       0.00      0.00      0.00         5\n",
            "          28       0.00      0.00      0.00        12\n",
            "          29       0.00      0.00      0.00         7\n",
            "          30       0.00      0.00      0.00        12\n",
            "          31       0.00      0.00      0.00        21\n",
            "          32       0.00      0.00      0.00         5\n",
            "          33       0.00      0.00      0.00        17\n",
            "          34       0.00      0.00      0.00         9\n",
            "          35       0.11      0.03      0.05        31\n",
            "          36       0.00      0.00      0.00         9\n",
            "          37       0.00      0.00      0.00         5\n",
            "          38       0.00      0.00      0.00        55\n",
            "          39       1.00      0.29      0.44         7\n",
            "          40       0.08      0.14      0.10         7\n",
            "          41       0.00      0.00      0.00         5\n",
            "          42       0.00      0.00      0.00         7\n",
            "\n",
            "    accuracy                           0.01      1000\n",
            "   macro avg       0.04      0.03      0.02      1000\n",
            "weighted avg       0.02      0.01      0.01      1000\n",
            "\n",
            "\n",
            "CNN Classification Report:\n",
            "               precision    recall  f1-score   support\n",
            "\n",
            "           0       0.00      0.00      0.00         5\n",
            "           1       0.20      0.02      0.03        57\n",
            "           2       0.50      0.02      0.03        59\n",
            "           3       0.00      0.00      0.00        36\n",
            "           4       0.00      0.00      0.00        52\n",
            "           5       0.05      0.04      0.05        50\n",
            "           6       0.00      0.00      0.00        12\n",
            "           7       0.03      0.08      0.04        36\n",
            "           8       0.00      0.00      0.00        36\n",
            "           9       0.11      0.05      0.07        38\n",
            "          10       0.00      0.00      0.00        52\n",
            "          11       0.00      0.00      0.00        33\n",
            "          12       0.09      0.02      0.03        55\n",
            "          13       0.00      0.00      0.00        57\n",
            "          14       0.00      0.00      0.00        21\n",
            "          15       0.00      0.00      0.00        17\n",
            "          16       0.00      0.00      0.00        12\n",
            "          17       0.00      0.00      0.00        28\n",
            "          18       0.00      0.00      0.00        31\n",
            "          19       0.00      0.60      0.01         5\n",
            "          20       0.00      0.00      0.00         7\n",
            "          21       0.00      0.00      0.00         7\n",
            "          22       0.00      0.00      0.00         9\n",
            "          23       0.00      0.00      0.00        12\n",
            "          24       0.00      0.00      0.00         7\n",
            "          25       0.00      0.00      0.00        38\n",
            "          26       0.00      0.00      0.00        14\n",
            "          27       0.00      0.00      0.00         5\n",
            "          28       0.00      0.00      0.00        12\n",
            "          29       0.00      0.00      0.00         7\n",
            "          30       0.00      0.00      0.00        12\n",
            "          31       0.11      0.05      0.07        21\n",
            "          32       0.00      0.00      0.00         5\n",
            "          33       0.04      0.06      0.05        17\n",
            "          34       0.00      0.00      0.00         9\n",
            "          35       0.00      0.00      0.00        31\n",
            "          36       0.00      0.00      0.00         9\n",
            "          37       0.00      0.00      0.00         5\n",
            "          38       0.00      0.00      0.00        55\n",
            "          39       0.00      0.00      0.00         7\n",
            "          40       0.00      0.00      0.00         7\n",
            "          41       0.00      0.00      0.00         5\n",
            "          42       0.00      0.00      0.00         7\n",
            "\n",
            "    accuracy                           0.01      1000\n",
            "   macro avg       0.03      0.02      0.01      1000\n",
            "weighted avg       0.06      0.01      0.01      1000\n",
            "\n"
          ]
        },
        {
          "output_type": "stream",
          "name": "stderr",
          "text": [
            "/usr/local/lib/python3.11/dist-packages/sklearn/metrics/_classification.py:1565: UndefinedMetricWarning: Precision is ill-defined and being set to 0.0 in labels with no predicted samples. Use `zero_division` parameter to control this behavior.\n",
            "  _warn_prf(average, modifier, f\"{metric.capitalize()} is\", len(result))\n",
            "/usr/local/lib/python3.11/dist-packages/sklearn/metrics/_classification.py:1565: UndefinedMetricWarning: Precision is ill-defined and being set to 0.0 in labels with no predicted samples. Use `zero_division` parameter to control this behavior.\n",
            "  _warn_prf(average, modifier, f\"{metric.capitalize()} is\", len(result))\n",
            "/usr/local/lib/python3.11/dist-packages/sklearn/metrics/_classification.py:1565: UndefinedMetricWarning: Precision is ill-defined and being set to 0.0 in labels with no predicted samples. Use `zero_division` parameter to control this behavior.\n",
            "  _warn_prf(average, modifier, f\"{metric.capitalize()} is\", len(result))\n",
            "/usr/local/lib/python3.11/dist-packages/sklearn/metrics/_classification.py:1565: UndefinedMetricWarning: Precision is ill-defined and being set to 0.0 in labels with no predicted samples. Use `zero_division` parameter to control this behavior.\n",
            "  _warn_prf(average, modifier, f\"{metric.capitalize()} is\", len(result))\n",
            "/usr/local/lib/python3.11/dist-packages/sklearn/metrics/_classification.py:1565: UndefinedMetricWarning: Precision is ill-defined and being set to 0.0 in labels with no predicted samples. Use `zero_division` parameter to control this behavior.\n",
            "  _warn_prf(average, modifier, f\"{metric.capitalize()} is\", len(result))\n",
            "/usr/local/lib/python3.11/dist-packages/sklearn/metrics/_classification.py:1565: UndefinedMetricWarning: Precision is ill-defined and being set to 0.0 in labels with no predicted samples. Use `zero_division` parameter to control this behavior.\n",
            "  _warn_prf(average, modifier, f\"{metric.capitalize()} is\", len(result))\n",
            "/usr/local/lib/python3.11/dist-packages/sklearn/metrics/_classification.py:1565: UndefinedMetricWarning: Precision is ill-defined and being set to 0.0 in labels with no predicted samples. Use `zero_division` parameter to control this behavior.\n",
            "  _warn_prf(average, modifier, f\"{metric.capitalize()} is\", len(result))\n",
            "/usr/local/lib/python3.11/dist-packages/sklearn/metrics/_classification.py:1565: UndefinedMetricWarning: Precision is ill-defined and being set to 0.0 in labels with no predicted samples. Use `zero_division` parameter to control this behavior.\n",
            "  _warn_prf(average, modifier, f\"{metric.capitalize()} is\", len(result))\n",
            "/usr/local/lib/python3.11/dist-packages/sklearn/metrics/_classification.py:1565: UndefinedMetricWarning: Precision is ill-defined and being set to 0.0 in labels with no predicted samples. Use `zero_division` parameter to control this behavior.\n",
            "  _warn_prf(average, modifier, f\"{metric.capitalize()} is\", len(result))\n"
          ]
        }
      ]
    },
    {
      "cell_type": "code",
      "source": [
        "# Perform ANOVA test\n",
        "anova_test = f_oneway(rf_preds, svm_preds, cnn_preds)\n",
        "print(\"ANOVA test result:\", anova_test)"
      ],
      "metadata": {
        "colab": {
          "base_uri": "https://localhost:8080/"
        },
        "id": "Yxz21OJ47YAy",
        "outputId": "01fb3474-3c82-45d7-a927-40a37b43f8db"
      },
      "execution_count": 59,
      "outputs": [
        {
          "output_type": "stream",
          "name": "stdout",
          "text": [
            "ANOVA test result: F_onewayResult(statistic=np.float64(46.3715564203917), pvalue=np.float64(1.4669272863291534e-20))\n"
          ]
        }
      ]
    },
    {
      "cell_type": "code",
      "source": [
        "# Compute test errors\n",
        "test1_error = 1 - rf_acc\n",
        "test2_error = 1 - svm_acc\n",
        "print(\"Test 1 Error (RF):\", test1_error)\n",
        "print(\"Test 2 Error (SVM):\", test2_error)"
      ],
      "metadata": {
        "colab": {
          "base_uri": "https://localhost:8080/"
        },
        "id": "mauf1jjD7gAM",
        "outputId": "0eda4dbd-398c-47c9-bf1c-e603b6df6200"
      },
      "execution_count": 60,
      "outputs": [
        {
          "output_type": "stream",
          "name": "stdout",
          "text": [
            "Test 1 Error (RF): 0.911\n",
            "Test 2 Error (SVM): 0.987\n"
          ]
        }
      ]
    },
    {
      "cell_type": "code",
      "source": [
        "# Perform Z-test\n",
        "from scipy.stats import zscore # Import the zscore function\n",
        "z_test_statistic = zscore([rf_acc, svm_acc, cnn_acc])\n",
        "print(\"Z-Test Statistics:\", z_test_statistic)"
      ],
      "metadata": {
        "colab": {
          "base_uri": "https://localhost:8080/"
        },
        "id": "AZQ9yF8LPpfE",
        "outputId": "c4c4e042-5d7b-4bdc-c839-5b8dc6f020f1"
      },
      "execution_count": 62,
      "outputs": [
        {
          "output_type": "stream",
          "name": "stdout",
          "text": [
            "Z-Test Statistics: [ 1.41383659 -0.73519503 -0.67864156]\n"
          ]
        }
      ]
    },
    {
      "cell_type": "code",
      "source": [
        "from scipy.stats import norm, f_oneway, zscore, f\n",
        "# Perform F-test\n",
        "f_test_statistic = f_oneway(rf_preds, svm_preds, cnn_preds)\n",
        "print(\"F-Test Statistics:\", f_test_statistic)"
      ],
      "metadata": {
        "colab": {
          "base_uri": "https://localhost:8080/"
        },
        "id": "_feZSitIQHEI",
        "outputId": "72cb27d3-ffb6-4682-e5d7-9862273d1c97"
      },
      "execution_count": 65,
      "outputs": [
        {
          "output_type": "stream",
          "name": "stdout",
          "text": [
            "F-Test Statistics: F_onewayResult(statistic=np.float64(46.3715564203917), pvalue=np.float64(1.4669272863291534e-20))\n"
          ]
        }
      ]
    }
  ]
}